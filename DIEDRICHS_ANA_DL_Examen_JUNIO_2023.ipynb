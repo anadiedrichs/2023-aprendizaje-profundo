{
  "nbformat": 4,
  "nbformat_minor": 0,
  "metadata": {
    "colab": {
      "provenance": [],
      "include_colab_link": true
    },
    "kernelspec": {
      "name": "python3",
      "display_name": "Python 3"
    }
  },
  "cells": [
    {
      "cell_type": "markdown",
      "metadata": {
        "id": "view-in-github",
        "colab_type": "text"
      },
      "source": [
        "<a href=\"https://colab.research.google.com/github/anadiedrichs/2023-aprendizaje-profundo/blob/main/DIEDRICHS_ANA_DL_Examen_JUNIO_2023.ipynb\" target=\"_parent\"><img src=\"https://colab.research.google.com/assets/colab-badge.svg\" alt=\"Open In Colab\"/></a>"
      ]
    },
    {
      "cell_type": "markdown",
      "metadata": {
        "id": "ftXnmgdtOuZs"
      },
      "source": [
        "# Universidad de Buenos Aires\n",
        "# Deep Learning - Examen\n",
        "# Junio 2023\n",
        "\n",
        "\n",
        " Ana Laura Diedrichs\n",
        "\n",
        " Legajo SIU a0902\n",
        "\n",
        " Cohorte 9Co2022\n",
        "\n"
      ]
    },
    {
      "cell_type": "markdown",
      "source": [
        "El examen comienza al momento de recibir este correo y la ventana de entrega estará abierta hasta el domingo 25 de junio a las 20:00hs. Toda comunicación con otros alumnos respecto del examen y la resolución de los ejercicios, queda estrictamente prohibida. Los exámenes serán comparados desde el punto de vista de la redacción, de los resultados y del código para determinar que el trabajo fue 100% individual y único. El examen es a libro abierto, pudiendo utilizar los contenidos vistos en clase y otra bibliografía. Todas las soluciones deben ser originales y si se toman ideas de fuentes externas deben ser correctamente citas incluyendo el correspondiente link o página de libro.\n",
        "\n",
        "El formato de entrega debe ser un “link a un colab” (compartir a las siguientes direcciones: maxit1992@gmail.com y lelectronfou@gmail.com ) o un “link a un notebook en un github público”.\n",
        "\n",
        "**Consideraciones a tener en cuenta:**\n",
        "- Se entregará 1 solo colab para la totalidad del examen.\n",
        "- Renombrar el archivo de la siguiente manera: **APELLIDO-NOMBRE-DL-Examen ABRIL 2023.ipynb**\n",
        "- Los códigos deben poder ejecutarse.\n",
        "- Los resultados, cómo el código y las explicaciones deben quedar guardados y visualizables en el correspondiente link.\n",
        "- Prestar atención a las consignas, responder las preguntas cuando corresponda.\n",
        "\n"
      ],
      "metadata": {
        "id": "aEx1gM2sG4OP"
      }
    },
    {
      "cell_type": "markdown",
      "metadata": {
        "id": "nlfSxrehmuYW"
      },
      "source": [
        "## Ejercicio 1\n",
        "\n"
      ]
    },
    {
      "cell_type": "markdown",
      "metadata": {
        "id": "FY2z-GSXoFvq"
      },
      "source": [
        "Dado el grafo de cómputo de la siguiente imagen:"
      ]
    },
    {
      "cell_type": "markdown",
      "source": [
        "![Graph.jpg](data:image/jpeg;base64,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)"
      ],
      "metadata": {
        "id": "QCQVU-QDfpZX"
      }
    },
    {
      "cell_type": "markdown",
      "source": [
        "Donde a=1, b=2 y c=3\n",
        "\n",
        "###1. Realizar el paso forward y calcular Y.\n",
        "\n"
      ],
      "metadata": {
        "id": "AwCiDRncfsaI"
      }
    },
    {
      "cell_type": "code",
      "source": [
        "def foward(a,b,c):\n",
        "  d = a + b\n",
        "  #print(d)\n",
        "  e = b - c\n",
        "  #print(e)\n",
        "  Y = d * e\n",
        "  #print(Y)\n",
        "  return Y\n",
        "\n",
        "\n",
        "a = 1\n",
        "b = 2\n",
        "c = 3\n",
        "foward(a,b,c)\n"
      ],
      "metadata": {
        "colab": {
          "base_uri": "https://localhost:8080/"
        },
        "id": "8veYQK46G317",
        "outputId": "7b20bf08-8172-4292-c1bf-50b4b8d2d678"
      },
      "execution_count": null,
      "outputs": [
        {
          "output_type": "execute_result",
          "data": {
            "text/plain": [
              "-3"
            ]
          },
          "metadata": {},
          "execution_count": 231
        }
      ]
    },
    {
      "cell_type": "markdown",
      "source": [
        "###2. Realizar el paso backward y calcular el backpropagation para a,b y c:\n",
        "\n",
        "2a) En forma analítica (dy/dx = 0)\n",
        "\n"
      ],
      "metadata": {
        "id": "RI0vmdRsF4om"
      }
    },
    {
      "cell_type": "markdown",
      "source": [
        "  $d = a + b$\n",
        "\n",
        "  $e = b - c$\n",
        "\n",
        "Derivada de Y respecto a B\n",
        "\n"
      ],
      "metadata": {
        "id": "KaNJR0zVI0r1"
      }
    },
    {
      "cell_type": "markdown",
      "source": [
        "Para desarrollar $\\frac{\\partial Y}{\\partial a}$, utilizo la regla del producto y la regla de la cadena.\n",
        "\n",
        "La función Y(a, b, c) está definida como el producto de las funciones d(a, b) y e(b, c):\n",
        "\n",
        "Y(a, b, c) = d(a, b) * e(b, c)\n",
        "\n",
        "Derivemos Y con respecto a b:\n",
        "\n",
        "$\\frac{\\partial Y}{\\partial b}=\\frac{\\partial}{\\partial b}[d(a, b) * e(b, c)]$\n",
        "\n",
        "Aplicamos la regla del producto:\n",
        "\n",
        "\n",
        "$\\frac{\\partial Y}{\\partial b}=\\frac{\\partial}{\\partial b}[d(a, b)] * e(b, c)+d(a, b)\\frac{\\partial}{\\partial b}[e(b, c)]$\n",
        "\n",
        "Ahora, necesitamos calcular las derivadas parciales de d(a, b) y e(b, c) con respecto a b.\n",
        "\n",
        "Para d(a, b) = a + b:\n",
        "\n",
        "d/d(b)[d(a, b)] = d/d(b)[a + b] = 1 + 1 = 2\n",
        "\n",
        "Para e(b, c) = b - c:\n",
        "\n",
        "d/d(b)[e(b, c)] = d/d(b)[b - c] = 1 - 0 = 1\n",
        "\n",
        "Sustituyendo estos resultados en la expresión original:\n",
        "\n",
        "dY/db = 2 * e(b, c) + d(a, b) * 1\n",
        "\n",
        "Simplificando, obtenemos:\n",
        "\n",
        "dY/db = 2 * (b - c) + (a + b) * 1\n",
        "\n",
        "Finalmente, la derivada de Y con respecto a b es:\n",
        "\n",
        "dY/db = 2b - 2c + a + b"
      ],
      "metadata": {
        "id": "pK0mNuxQwIV7"
      }
    },
    {
      "cell_type": "markdown",
      "source": [
        "Para desarrollar analíticamente la derivada de Y con respecto a a, nuevamente utilizaremos la regla del producto y la regla de la cadena.\n",
        "\n",
        "La función Y(a, b, c) está definida como el producto de las funciones d(a, b) y e(b, c):\n",
        "\n",
        "Y(a, b, c) = d(a, b) * e(b, c)\n",
        "\n",
        "Derivemos Y con respecto a a:\n",
        "\n",
        "dY/da = d/d(a)[d(a, b) * e(b, c)]\n",
        "\n",
        "Aplicamos la regla del producto:\n",
        "\n",
        "dY/da = d/d(a)[d(a, b)] * e(b, c) + d(a, b) * d/d(a)[e(b, c)]\n",
        "\n",
        "Ahora, necesitamos calcular las derivadas parciales de d(a, b) y e(b, c) con respecto a a.\n",
        "\n",
        "Para d(a, b) = a + b:\n",
        "\n",
        "d/d(a)[d(a, b)] = d/d(a)[a + b] = 1 + 0 = 1\n",
        "\n",
        "Para e(b, c) = b - c:\n",
        "\n",
        "d/d(a)[e(b, c)] = d/d(a)[b - c] = 0 - 0 = 0\n",
        "\n",
        "Sustituyendo estos resultados en la expresión original:\n",
        "\n",
        "dY/da = 1 * e(b, c) + d(a, b) * 0\n",
        "\n",
        "Simplificando, obtenemos:\n",
        "\n",
        "dY/da = e(b, c)\n",
        "\n",
        "Por lo tanto, la derivada de Y con respecto a a es simplemente la función e(b, c)."
      ],
      "metadata": {
        "id": "oC5iP-uJwRXL"
      }
    },
    {
      "cell_type": "code",
      "source": [],
      "metadata": {
        "id": "2muAix1ozFLA"
      },
      "execution_count": null,
      "outputs": []
    },
    {
      "cell_type": "markdown",
      "source": [
        "Para desarrollar analíticamente la derivada de Y con respecto a c, nuevamente aplicaremos la regla del producto y la regla de la cadena.\n",
        "\n",
        "La función Y(a, b, c) está definida como el producto de las funciones d(a, b) y e(b, c):\n",
        "\n",
        "Y(a, b, c) = d(a, b) * e(b, c)\n",
        "\n",
        "Derivemos Y con respecto a c:\n",
        "\n",
        "dY/dc = d/d(c)[d(a, b) * e(b, c)]\n",
        "\n",
        "Aplicamos la regla del producto:\n",
        "\n",
        "dY/dc = d/d(c)[d(a, b)] * e(b, c) + d(a, b) * d/d(c)[e(b, c)]\n",
        "\n",
        "Ahora, necesitamos calcular las derivadas parciales de d(a, b) y e(b, c) con respecto a c.\n",
        "\n",
        "Para d(a, b) = a + b:\n",
        "\n",
        "d/d(c)[d(a, b)] = d/d(c)[a + b] = 0 + 0 = 0\n",
        "\n",
        "Para e(b, c) = b - c:\n",
        "\n",
        "d/d(c)[e(b, c)] = d/d(c)[b - c] = 0 - 1 = -1\n",
        "\n",
        "Sustituyendo estos resultados en la expresión original:\n",
        "\n",
        "dY/dc = 0 * e(b, c) + d(a, b) * (-1)\n",
        "\n",
        "Simplificando, obtenemos:\n",
        "\n",
        "dY/dc = -d(a, b)\n",
        "\n",
        "Por lo tanto, la derivada de Y con respecto a c es simplemente el negativo de la función d(a, b)."
      ],
      "metadata": {
        "id": "Omr-r7tIzF0q"
      }
    },
    {
      "cell_type": "markdown",
      "source": [
        "2b) Aplicando regla de la cadena\n",
        "\n",
        "2c) Utilizando pytorch\n"
      ],
      "metadata": {
        "id": "ErVSDjY_IvN0"
      }
    },
    {
      "cell_type": "code",
      "source": [
        "import torch"
      ],
      "metadata": {
        "id": "KX3ORSMo1dFt"
      },
      "execution_count": null,
      "outputs": []
    },
    {
      "cell_type": "code",
      "source": [
        "\n",
        "# create tensors with requires_grad = true\n",
        "a = torch.tensor(1.0, requires_grad = True)\n",
        "b = torch.tensor(2.0, requires_grad = True)\n",
        "c = torch.tensor(3.0, requires_grad = True)\n",
        "\n",
        "# print the tensor\n",
        "print(\"a:\", a)\n",
        "\n",
        "# define a function y for the tensor, x\n",
        "d = a + b\n",
        "e = b - c\n",
        "y = d * e\n",
        "\n",
        "print(\"y:\", y)\n",
        "\n",
        "# Compute gradients using backward function for y\n",
        "y.backward()\n",
        "\n",
        "# Access the gradients using x.grad\n",
        "print(\"a.grad :\", a.grad)\n",
        "print(\"b.grad :\", b.grad)\n",
        "print(\"c.grad :\", c.grad)"
      ],
      "metadata": {
        "colab": {
          "base_uri": "https://localhost:8080/"
        },
        "id": "QTDjO_dL2J_N",
        "outputId": "05fa45e0-5bdc-42f7-ce2d-3f901ac2bb99"
      },
      "execution_count": null,
      "outputs": [
        {
          "output_type": "stream",
          "name": "stdout",
          "text": [
            "a: tensor(1., requires_grad=True)\n",
            "y: tensor(-3., grad_fn=<MulBackward0>)\n",
            "a.grad : tensor(-1.)\n",
            "b.grad : tensor(2.)\n",
            "c.grad : tensor(-3.)\n"
          ]
        }
      ]
    },
    {
      "cell_type": "markdown",
      "source": [],
      "metadata": {
        "id": "bwDqVpRY1dpz"
      }
    },
    {
      "cell_type": "code",
      "source": [
        "# dY/db = 2b - 2c + a + b\n",
        "print((3 * 2) - (2*3) + 1)"
      ],
      "metadata": {
        "colab": {
          "base_uri": "https://localhost:8080/"
        },
        "id": "fn35kfox4PO3",
        "outputId": "1c5248c2-f667-4a20-d360-f0515a161e42"
      },
      "execution_count": null,
      "outputs": [
        {
          "output_type": "stream",
          "name": "stdout",
          "text": [
            "1\n"
          ]
        }
      ]
    },
    {
      "cell_type": "markdown",
      "source": [
        "###3. Comparar los resultados del punto 2"
      ],
      "metadata": {
        "id": "OgDc9eZvIhpt"
      }
    },
    {
      "cell_type": "code",
      "source": [],
      "metadata": {
        "id": "n62pCbsrFmpq"
      },
      "execution_count": null,
      "outputs": []
    },
    {
      "cell_type": "markdown",
      "source": [
        "## Ejercicio 2"
      ],
      "metadata": {
        "id": "4CMta3Dj_Mjq"
      }
    },
    {
      "cell_type": "markdown",
      "metadata": {
        "id": "C_hXG5W6KMBx"
      },
      "source": [
        "Si tiene una imagen a procesar de 1024x720x3 y desea aplicar en cascada, 2 capas de convolución, seguido por una capa de activación y una de pooling,  con las siguientes características:\n",
        "\n",
        "*Conv1:*\n",
        "* tamaño kernel = 7x7\n",
        "* padding = 2\n",
        "* stride = 1\n",
        "* número de kernel = 16\n",
        "\n",
        "*Conv2:*\n",
        "* tamaño kernel = 5x5\n",
        "* padding = 0\n",
        "* stride = 1\n",
        "* número de kernel = 32\n",
        "\n",
        "*activación*\n",
        "* Tanh()\n",
        "\n",
        "*pooling*\n",
        "* tamaño pooling = 5x5\n",
        "* padding pooling = 0\n",
        "* stride pooling = 5\n",
        "\n",
        "a) ¿Cual es el tamaño final de la salida y cuantos canales tiene?\n",
        "\n",
        "\n",
        "\n",
        "\n",
        "\n"
      ]
    },
    {
      "cell_type": "markdown",
      "source": [
        "Para calcular el tamaño final de la salida y el número de canales después de aplicar las capas de convolución, activación y pooling, podemos seguir los siguientes pasos:\n",
        "\n",
        "1. Tamaño de entrada: 1024x720x3 (ancho x alto x canales).\n",
        "\n",
        "2. Conv1:\n",
        "   - Tamaño del kernel: 7x7.\n",
        "   - Padding: 2 (se añaden 2 filas/columnas de ceros alrededor de la imagen de entrada).\n",
        "   - Stride: 1 (movimiento del kernel de 1 píxel en cada dirección).\n",
        "   - Número de kernels: 16.\n",
        "   - La fórmula para calcular el tamaño de salida después de una convolución es:\n",
        "     - Ancho de salida = ((ancho de entrada + 2 * padding - tamaño del kernel) / stride) + 1.\n",
        "     - Alto de salida = ((alto de entrada + 2 * padding - tamaño del kernel) / stride) + 1.\n",
        "   - Aplicando la fórmula:\n",
        "     - Ancho de salida = ((1024 + 2 * 2 - 7) / 1) + 1 = (1028 / 1) + 1 = 1029.\n",
        "     - Alto de salida = ((720 + 2 * 2 - 7) / 1) + 1 = (724 / 1) + 1 = 725.\n",
        "   - Por lo tanto, la salida después de Conv1 es de tamaño 1029x725x16.\n",
        "\n",
        "3. Conv2:\n",
        "   - Tamaño del kernel: 5x5.\n",
        "   - Padding: 0 (sin padding).\n",
        "   - Stride: 1.\n",
        "   - Número de kernels: 32.\n",
        "   - Aplicando la fórmula:\n",
        "     - Ancho de salida = ((ancho de entrada + 2 * padding - tamaño del kernel) / stride) + 1.\n",
        "     - Alto de salida = ((alto de entrada + 2 * padding - tamaño del kernel) / stride) + 1.\n",
        "   - Ancho de salida = ((1029 + 2 * 0 - 5) / 1) + 1 = (1024 / 1) + 1 = 1025.\n",
        "   - Alto de salida = ((725 + 2 * 0 - 5) / 1) + 1 = (720 / 1) + 1 = 721.\n",
        "   - Por lo tanto, la salida después de Conv2 es de tamaño 1025x721x32.\n",
        "\n",
        "4. Activación (Tanh):\n",
        "   - La capa de activación no cambia el tamaño de la salida, solo aplica la función tangente hiperbólica a cada elemento de la salida.\n",
        "   - Por lo tanto, el tamaño de salida después de la activación sigue siendo 1025x721x32.\n",
        "\n",
        "5. Pooling:\n",
        "   - Tamaño del pooling: 5x5.\n",
        "   - Padding: 0 (sin padding).\n",
        "   - Stride: 5 (movimiento del kernel de pooling de 5 píxeles en cada dirección).\n",
        "   - La fórmula para calcular el tamaño de salida después de una capa de pooling es:\n",
        "     - Ancho de salida = ((ancho de entrada + 2 * padding - tamaño del pooling) / stride) + 1.\n",
        "     - Alto de salida = ((alto de entrada + 2 * padding - tamaño del pooling) / stride) + 1.\n",
        "   - Ancho de salida = ((1025 + 2 * 0 - 5) / 5) + 1 = (1020 / 5) + 1 = 205.\n",
        "   - Alto de salida = ((721 + 2 * 0 - 5) / 5) + 1 = (716 / 5) + 1 = 144.2 (redondeado a 145).\n",
        "   - Por lo tanto, la salida después de la capa de pooling es de tamaño 205x145x32.\n",
        "\n",
        "En resumen, el tamaño final de la salida es de 205x145 y tiene 32 canales."
      ],
      "metadata": {
        "id": "S_LqWkQIZzIn"
      }
    },
    {
      "cell_type": "markdown",
      "source": [
        "b) Si tiene que conectar esa salida a una `fully_connected` para clasificar 3 clases ¿que tamaño debe tener?\n"
      ],
      "metadata": {
        "id": "quFGRkBUZvN5"
      }
    },
    {
      "cell_type": "markdown",
      "source": [
        "Si conectamos la salida de la capa de pooling a una capa totalmente conectada (fully connected) para clasificar 3 clases, el tamaño de la entrada de la capa totalmente conectada debe coincidir con el número de neuronas en esa capa.\n",
        "\n",
        "La salida de la capa de pooling tiene un tamaño de 205x145x32. Para conectarla a una capa totalmente conectada, necesitamos aplanar la salida en un vector unidimensional. Por lo tanto, el tamaño de entrada de la capa totalmente conectada será el producto del ancho, alto y número de canales de la salida de la capa de pooling.\n",
        "\n",
        "Tamaño de entrada de la capa totalmente conectada:\n",
        "205 x 145 x 32 = 944,800.\n",
        "\n",
        "Por lo tanto, el tamaño de entrada de la capa totalmente conectada debe ser 944,800 para conectar la salida de la capa de pooling y clasificar 3 clases."
      ],
      "metadata": {
        "id": "8iRolsQvZ3jG"
      }
    },
    {
      "cell_type": "markdown",
      "source": [
        "## Ejercicio 3\n",
        "\n"
      ],
      "metadata": {
        "id": "fvsqmJwx_Rb8"
      }
    },
    {
      "cell_type": "markdown",
      "metadata": {
        "id": "ABeIRvAkKLy7"
      },
      "source": [
        "a) Implemente una red recurrente (como la de la imagen) que:\n",
        "\n",
        "\n",
        "\n",
        "* Tenga como input una señal de 4 canales (4 features)\n",
        "* 3 capas ocultas con 20 neuronas.\n",
        "* Tenga como salida una señal de 2 canales (2 features) de igual longitud que la señal de entrada.\n",
        "\n",
        "\n",
        "b) Testeear el modelo con una señal random de longitud 20.\n",
        "\n",
        "c) Indique el total de parámetros entrenables.\n",
        "\n",
        "\n",
        "\n",
        "![c](https://drive.google.com/uc?export=view&id=1jDMr1hOiHBgkDZepHfOaxWQcaNNntB7W)\n",
        "\n",
        "\n",
        "\n",
        "Imagen 3 link (https://drive.google.com/file/d/1jDMr1hOiHBgkDZepHfOaxWQcaNNntB7W/view?usp=drive_link)\n",
        "\n"
      ]
    },
    {
      "cell_type": "markdown",
      "source": [
        "Para trabajar este ejercicio utilicé como referencia el código fuente brindado por la cátedra"
      ],
      "metadata": {
        "id": "qnB6n8SBgu6X"
      }
    },
    {
      "cell_type": "code",
      "source": [
        "# Librerias\n",
        "import numpy as np\n",
        "import torch\n",
        "\n",
        "class SimpleRNN(torch.nn.Module):\n",
        "  def __init__(self, input_size=1, hidden_size=1, num_layers=1, outpdim= 2):\n",
        "    super().__init__()\n",
        "    self.rnn = torch.nn.RNN(input_size, hidden_size, num_layers, batch_first=True)\n",
        "    self.nn = torch.nn.Linear(hidden_size, outpdim)\n",
        "\n",
        "  def forward(self, x):\n",
        "    y, h = self.rnn(x)\n",
        "    o = self.nn(h)\n",
        "\n",
        "    return o, h\n",
        "\n",
        "  def get_number_of_parameters(self):\n",
        "    trainable_params_rnn = sum(\n",
        "      p.numel() for p in self.rnn.parameters() if p.requires_grad\n",
        "    )\n",
        "\n",
        "    trainable_params_nn = sum(\n",
        "      q.numel() for q in self.nn.parameters() if q.requires_grad\n",
        "    )\n",
        "\n",
        "    return trainable_params_nn + trainable_params_rnn\n",
        "\n",
        "\n",
        "def imp_param(model):\n",
        "  print('-'*84)\n",
        "  print('PARAMETROS DEL MODELO')\n",
        "  print('-'*84)\n",
        "  for name, param in model.named_parameters():\n",
        "    if param.requires_grad:\n",
        "      print('Nombre del parámetro: ')\n",
        "      print(name)\n",
        "      print('Tamaño del parámetro: ')\n",
        "      print(param.data.shape)\n",
        "      print()\n",
        "def teoria(model, largo_entrada = 3, batch_size=1):\n",
        "  print('-'*84)\n",
        "  print('MODELO')\n",
        "  print('-'*84)\n",
        "  print(model)\n",
        "  imp_param(model)\n",
        "\n",
        "  # Generamos una entrada aleatoria para ver como responde la red\n",
        "  # el tamaño de la entrada esa acorde a los tamaños que cargamos antes\n",
        "  entrada = torch.rand(batch_size, largo_entrada, input_size)\n",
        "  print('-'*84)\n",
        "  print('ENTRADA')\n",
        "  print('-'*84)\n",
        "  print('entrada shape: ', entrada.shape)\n",
        "  print(entrada)\n",
        "\n",
        "  # le agrego la dimension del batch:\n",
        "  #entrada = entrada[None, :]\n",
        "  print()\n",
        "  print('entrada con nuevas dimensiones [batch, Length, nr_features] ')\n",
        "  print(entrada.shape)\n",
        "\n",
        "  # Pasamos la entrada a la red\n",
        "  o, h = model(entrada)\n",
        "  print('-'*84)\n",
        "  print('SALIDA')\n",
        "  print('-'*84)\n",
        "  print('salida de la red (output) (largo igual al input): ', o.shape)\n",
        "  print(o)\n",
        "  print()\n",
        "  print('hidden red (solo ultimo hidden): ', h.shape)\n",
        "  print(h)\n"
      ],
      "metadata": {
        "id": "K1_5e1h17hpg"
      },
      "execution_count": null,
      "outputs": []
    },
    {
      "cell_type": "markdown",
      "source": [
        "\n",
        "* Tenga como input una señal de 4 canales (4 features)\n",
        "* 3 capas ocultas con 20 neuronas.\n",
        "* Tenga como salida una señal de 2 canales (2 features) de igual longitud que la señal de entrada.\n"
      ],
      "metadata": {
        "id": "vW6nu2KX-BaF"
      }
    },
    {
      "cell_type": "code",
      "source": [
        "input_size= 4 # cuantas features de entrada o tamaño de entrada\n",
        "hidden_size= 20 # cuántas neuronas en cada capa oculta\n",
        "num_layers= 3 # nro de capas ocultas\n",
        "largo_entrada = 20 # señal random longitud 20\n",
        "\n",
        "model = SimpleRNN(input_size, hidden_size, num_layers,2)\n",
        "teoria(model, largo_entrada)\n"
      ],
      "metadata": {
        "colab": {
          "base_uri": "https://localhost:8080/"
        },
        "id": "KP6JtRfB9S6y",
        "outputId": "67762631-29b2-42d0-bc29-e98842cee868"
      },
      "execution_count": null,
      "outputs": [
        {
          "output_type": "stream",
          "name": "stdout",
          "text": [
            "------------------------------------------------------------------------------------\n",
            "MODELO\n",
            "------------------------------------------------------------------------------------\n",
            "SimpleRNN(\n",
            "  (rnn): RNN(4, 20, num_layers=3, batch_first=True)\n",
            "  (nn): Linear(in_features=20, out_features=2, bias=True)\n",
            ")\n",
            "------------------------------------------------------------------------------------\n",
            "PARAMETROS DEL MODELO\n",
            "------------------------------------------------------------------------------------\n",
            "Nombre del parámetro: \n",
            "rnn.weight_ih_l0\n",
            "Tamaño del parámetro: \n",
            "torch.Size([20, 4])\n",
            "\n",
            "Nombre del parámetro: \n",
            "rnn.weight_hh_l0\n",
            "Tamaño del parámetro: \n",
            "torch.Size([20, 20])\n",
            "\n",
            "Nombre del parámetro: \n",
            "rnn.bias_ih_l0\n",
            "Tamaño del parámetro: \n",
            "torch.Size([20])\n",
            "\n",
            "Nombre del parámetro: \n",
            "rnn.bias_hh_l0\n",
            "Tamaño del parámetro: \n",
            "torch.Size([20])\n",
            "\n",
            "Nombre del parámetro: \n",
            "rnn.weight_ih_l1\n",
            "Tamaño del parámetro: \n",
            "torch.Size([20, 20])\n",
            "\n",
            "Nombre del parámetro: \n",
            "rnn.weight_hh_l1\n",
            "Tamaño del parámetro: \n",
            "torch.Size([20, 20])\n",
            "\n",
            "Nombre del parámetro: \n",
            "rnn.bias_ih_l1\n",
            "Tamaño del parámetro: \n",
            "torch.Size([20])\n",
            "\n",
            "Nombre del parámetro: \n",
            "rnn.bias_hh_l1\n",
            "Tamaño del parámetro: \n",
            "torch.Size([20])\n",
            "\n",
            "Nombre del parámetro: \n",
            "rnn.weight_ih_l2\n",
            "Tamaño del parámetro: \n",
            "torch.Size([20, 20])\n",
            "\n",
            "Nombre del parámetro: \n",
            "rnn.weight_hh_l2\n",
            "Tamaño del parámetro: \n",
            "torch.Size([20, 20])\n",
            "\n",
            "Nombre del parámetro: \n",
            "rnn.bias_ih_l2\n",
            "Tamaño del parámetro: \n",
            "torch.Size([20])\n",
            "\n",
            "Nombre del parámetro: \n",
            "rnn.bias_hh_l2\n",
            "Tamaño del parámetro: \n",
            "torch.Size([20])\n",
            "\n",
            "Nombre del parámetro: \n",
            "nn.weight\n",
            "Tamaño del parámetro: \n",
            "torch.Size([2, 20])\n",
            "\n",
            "Nombre del parámetro: \n",
            "nn.bias\n",
            "Tamaño del parámetro: \n",
            "torch.Size([2])\n",
            "\n",
            "------------------------------------------------------------------------------------\n",
            "ENTRADA\n",
            "------------------------------------------------------------------------------------\n",
            "entrada shape:  torch.Size([1, 20, 4])\n",
            "tensor([[[0.7136, 0.3516, 0.9923, 0.7071],\n",
            "         [0.6466, 0.1741, 0.6707, 0.1195],\n",
            "         [0.6499, 0.5321, 0.2078, 0.9587],\n",
            "         [0.9293, 0.4165, 0.9029, 0.6930],\n",
            "         [0.9230, 0.1743, 0.5343, 0.1855],\n",
            "         [0.8448, 0.9624, 0.4289, 0.6489],\n",
            "         [0.1649, 0.3226, 0.0725, 0.3812],\n",
            "         [0.0284, 0.7507, 0.4100, 0.5443],\n",
            "         [0.0802, 0.0865, 0.8708, 0.7851],\n",
            "         [0.8687, 0.5284, 0.7158, 0.5113],\n",
            "         [0.2939, 0.8726, 0.0051, 0.8417],\n",
            "         [0.5558, 0.8801, 0.1094, 0.7480],\n",
            "         [0.6572, 0.2882, 0.3195, 0.4048],\n",
            "         [0.4691, 0.7978, 0.7323, 0.9660],\n",
            "         [0.2538, 0.8422, 0.3218, 0.7916],\n",
            "         [0.6666, 0.2726, 0.4380, 0.0173],\n",
            "         [0.5469, 0.3456, 0.5496, 0.8782],\n",
            "         [0.4898, 0.9549, 0.2403, 0.6219],\n",
            "         [0.2010, 0.7796, 0.3132, 0.3052],\n",
            "         [0.4667, 0.8993, 0.3509, 0.6687]]])\n",
            "\n",
            "entrada con nuevas dimensiones [batch, Length, nr_features] \n",
            "torch.Size([1, 20, 4])\n",
            "------------------------------------------------------------------------------------\n",
            "SALIDA\n",
            "------------------------------------------------------------------------------------\n",
            "salida de la red (output) (largo igual al input):  torch.Size([3, 1, 2])\n",
            "tensor([[[0.0357, 0.0206]],\n",
            "\n",
            "        [[0.2389, 0.0538]],\n",
            "\n",
            "        [[0.0127, 0.0148]]], grad_fn=<ViewBackward0>)\n",
            "\n",
            "hidden red (solo ultimo hidden):  torch.Size([3, 1, 20])\n",
            "tensor([[[-0.0043, -0.5872,  0.0302,  0.2394,  0.4695, -0.1816,  0.0051,\n",
            "          -0.1448,  0.1647, -0.4341, -0.3065,  0.6756, -0.1775, -0.2445,\n",
            "           0.2367,  0.1060,  0.4398,  0.4057, -0.3871,  0.2913]],\n",
            "\n",
            "        [[ 0.2335,  0.0660,  0.2190,  0.2157, -0.4312,  0.4570,  0.5323,\n",
            "          -0.3191, -0.0134,  0.4601,  0.0198,  0.0623,  0.4732, -0.1236,\n",
            "           0.2281, -0.1443,  0.4408,  0.1675, -0.4093,  0.4002]],\n",
            "\n",
            "        [[ 0.3997,  0.1602, -0.0248, -0.2007,  0.1368, -0.4218, -0.3146,\n",
            "           0.3293, -0.5402, -0.0272, -0.3469,  0.3078,  0.2102, -0.1970,\n",
            "           0.0790, -0.1904, -0.4702,  0.3257, -0.2235, -0.2462]]],\n",
            "       grad_fn=<StackBackward0>)\n"
          ]
        }
      ]
    },
    {
      "cell_type": "markdown",
      "source": [
        "b) Testeear el modelo con una señal random de longitud 20."
      ],
      "metadata": {
        "id": "UbUY1nsxvM91"
      }
    },
    {
      "cell_type": "code",
      "source": [
        "# ¿ NO ES LO QUE YA HICE ARRIBA?\n",
        "# O DEBO CREAR UN DATA LOADER ?"
      ],
      "metadata": {
        "id": "l4RGl0ZJvNe4"
      },
      "execution_count": null,
      "outputs": []
    },
    {
      "cell_type": "markdown",
      "source": [
        "c) Indique el total de parámetros entrenables."
      ],
      "metadata": {
        "id": "W66GBCo7jjt-"
      }
    },
    {
      "cell_type": "code",
      "source": [
        "model.get_number_of_parameters()"
      ],
      "metadata": {
        "colab": {
          "base_uri": "https://localhost:8080/"
        },
        "id": "ZM1XgQOtjkKi",
        "outputId": "49b15937-6394-4f45-9824-954a388b8fa2"
      },
      "execution_count": null,
      "outputs": [
        {
          "output_type": "execute_result",
          "data": {
            "text/plain": [
              "2242"
            ]
          },
          "metadata": {},
          "execution_count": 238
        }
      ]
    },
    {
      "cell_type": "markdown",
      "source": [
        "## Ejercicio 4"
      ],
      "metadata": {
        "id": "WL2PjUnT_Uvk"
      }
    },
    {
      "cell_type": "markdown",
      "metadata": {
        "id": "73yqE_Sslwif"
      },
      "source": [
        "\n",
        "Se desea construir un sistema de recomendación de películas. Para esto se cuenta con un dataset de las puntuaciones que los usuarios han asignado a las peliculas disponibles.\n",
        "\n",
        "Link dataset: https://drive.google.com/file/d/1Og9H-8oqb3_Wo_WOakeAuRR_mwr922Ar/view?usp=sharing\n",
        "\n",
        "Para verificar la factibilidad del proyecto con datos válidos, se decide utilizar solamente las 200 películas con más votos y los usuarios que han puntuado al menos 100 películas.\n",
        "\n",
        "###1- Procesar el dataset para utilizar solamente las 200 películas con mayor cantidad de votos y los usuarios que hayan votado al menos 100 películas.\n",
        "\n"
      ]
    },
    {
      "cell_type": "markdown",
      "source": [
        "Cargo el dataset"
      ],
      "metadata": {
        "id": "GMRLy_9qkhlB"
      }
    },
    {
      "cell_type": "code",
      "source": [
        "url = \"https://www.dropbox.com/s/wf7fvhra5pbobmm/ratings.csv?dl=1\"\n",
        "import pandas as pd\n",
        "csv_data = pd.read_csv(url)\n",
        "print(csv_data)"
      ],
      "metadata": {
        "id": "eLQzdNeRjzym",
        "colab": {
          "base_uri": "https://localhost:8080/"
        },
        "outputId": "ed3d3c71-33a7-402c-a1ac-28a025afdc13"
      },
      "execution_count": null,
      "outputs": [
        {
          "output_type": "stream",
          "name": "stdout",
          "text": [
            "        userId  movieId  rating   timestamp\n",
            "0            1        1     4.0   964982703\n",
            "1            1        3     4.0   964981247\n",
            "2            1        6     4.0   964982224\n",
            "3            1       47     5.0   964983815\n",
            "4            1       50     5.0   964982931\n",
            "...        ...      ...     ...         ...\n",
            "100831     610   166534     4.0  1493848402\n",
            "100832     610   168248     5.0  1493850091\n",
            "100833     610   168250     5.0  1494273047\n",
            "100834     610   168252     5.0  1493846352\n",
            "100835     610   170875     3.0  1493846415\n",
            "\n",
            "[100836 rows x 4 columns]\n"
          ]
        }
      ]
    },
    {
      "cell_type": "markdown",
      "source": [
        "Cantidad de movieId diferentes en el dataset"
      ],
      "metadata": {
        "id": "_1PNKlO3kUMv"
      }
    },
    {
      "cell_type": "code",
      "source": [
        "len(csv_data['movieId'].unique())"
      ],
      "metadata": {
        "colab": {
          "base_uri": "https://localhost:8080/"
        },
        "id": "c9kfP1BCkHoL",
        "outputId": "4288394a-d5db-4fbc-9b91-82c24f71eadb"
      },
      "execution_count": null,
      "outputs": [
        {
          "output_type": "execute_result",
          "data": {
            "text/plain": [
              "9724"
            ]
          },
          "metadata": {},
          "execution_count": 240
        }
      ]
    },
    {
      "cell_type": "markdown",
      "source": [
        "Agrupo el dataset por movieId, realizo un conteo o count by (size()), a esa columna la denomino obs, luego ordeno de forma descendente para tener los valores altos primero, finalmente me quedo con las 200 primeras filas, que representan las que tienen mayor cantidad de ratings."
      ],
      "metadata": {
        "id": "ZceVJw6ikeIp"
      }
    },
    {
      "cell_type": "code",
      "source": [
        "csv_data.groupby('movieId').size().reset_index(name='obs').sort_values(['obs'], ascending=False).iloc[0:200,:]"
      ],
      "metadata": {
        "colab": {
          "base_uri": "https://localhost:8080/",
          "height": 423
        },
        "id": "xrigXp4FkTXL",
        "outputId": "52377218-0da5-4a34-e6f9-df531f498e6f"
      },
      "execution_count": null,
      "outputs": [
        {
          "output_type": "execute_result",
          "data": {
            "text/plain": [
              "      movieId  obs\n",
              "314       356  329\n",
              "277       318  317\n",
              "257       296  307\n",
              "510       593  279\n",
              "1938     2571  278\n",
              "...       ...  ...\n",
              "2903     3897   83\n",
              "838      1101   83\n",
              "622       788   82\n",
              "15         16   82\n",
              "1186     1584   82\n",
              "\n",
              "[200 rows x 2 columns]"
            ],
            "text/html": [
              "\n",
              "  <div id=\"df-8ed92579-3ad1-43f7-8622-6737761c2a33\">\n",
              "    <div class=\"colab-df-container\">\n",
              "      <div>\n",
              "<style scoped>\n",
              "    .dataframe tbody tr th:only-of-type {\n",
              "        vertical-align: middle;\n",
              "    }\n",
              "\n",
              "    .dataframe tbody tr th {\n",
              "        vertical-align: top;\n",
              "    }\n",
              "\n",
              "    .dataframe thead th {\n",
              "        text-align: right;\n",
              "    }\n",
              "</style>\n",
              "<table border=\"1\" class=\"dataframe\">\n",
              "  <thead>\n",
              "    <tr style=\"text-align: right;\">\n",
              "      <th></th>\n",
              "      <th>movieId</th>\n",
              "      <th>obs</th>\n",
              "    </tr>\n",
              "  </thead>\n",
              "  <tbody>\n",
              "    <tr>\n",
              "      <th>314</th>\n",
              "      <td>356</td>\n",
              "      <td>329</td>\n",
              "    </tr>\n",
              "    <tr>\n",
              "      <th>277</th>\n",
              "      <td>318</td>\n",
              "      <td>317</td>\n",
              "    </tr>\n",
              "    <tr>\n",
              "      <th>257</th>\n",
              "      <td>296</td>\n",
              "      <td>307</td>\n",
              "    </tr>\n",
              "    <tr>\n",
              "      <th>510</th>\n",
              "      <td>593</td>\n",
              "      <td>279</td>\n",
              "    </tr>\n",
              "    <tr>\n",
              "      <th>1938</th>\n",
              "      <td>2571</td>\n",
              "      <td>278</td>\n",
              "    </tr>\n",
              "    <tr>\n",
              "      <th>...</th>\n",
              "      <td>...</td>\n",
              "      <td>...</td>\n",
              "    </tr>\n",
              "    <tr>\n",
              "      <th>2903</th>\n",
              "      <td>3897</td>\n",
              "      <td>83</td>\n",
              "    </tr>\n",
              "    <tr>\n",
              "      <th>838</th>\n",
              "      <td>1101</td>\n",
              "      <td>83</td>\n",
              "    </tr>\n",
              "    <tr>\n",
              "      <th>622</th>\n",
              "      <td>788</td>\n",
              "      <td>82</td>\n",
              "    </tr>\n",
              "    <tr>\n",
              "      <th>15</th>\n",
              "      <td>16</td>\n",
              "      <td>82</td>\n",
              "    </tr>\n",
              "    <tr>\n",
              "      <th>1186</th>\n",
              "      <td>1584</td>\n",
              "      <td>82</td>\n",
              "    </tr>\n",
              "  </tbody>\n",
              "</table>\n",
              "<p>200 rows × 2 columns</p>\n",
              "</div>\n",
              "      <button class=\"colab-df-convert\" onclick=\"convertToInteractive('df-8ed92579-3ad1-43f7-8622-6737761c2a33')\"\n",
              "              title=\"Convert this dataframe to an interactive table.\"\n",
              "              style=\"display:none;\">\n",
              "        \n",
              "  <svg xmlns=\"http://www.w3.org/2000/svg\" height=\"24px\"viewBox=\"0 0 24 24\"\n",
              "       width=\"24px\">\n",
              "    <path d=\"M0 0h24v24H0V0z\" fill=\"none\"/>\n",
              "    <path d=\"M18.56 5.44l.94 2.06.94-2.06 2.06-.94-2.06-.94-.94-2.06-.94 2.06-2.06.94zm-11 1L8.5 8.5l.94-2.06 2.06-.94-2.06-.94L8.5 2.5l-.94 2.06-2.06.94zm10 10l.94 2.06.94-2.06 2.06-.94-2.06-.94-.94-2.06-.94 2.06-2.06.94z\"/><path d=\"M17.41 7.96l-1.37-1.37c-.4-.4-.92-.59-1.43-.59-.52 0-1.04.2-1.43.59L10.3 9.45l-7.72 7.72c-.78.78-.78 2.05 0 2.83L4 21.41c.39.39.9.59 1.41.59.51 0 1.02-.2 1.41-.59l7.78-7.78 2.81-2.81c.8-.78.8-2.07 0-2.86zM5.41 20L4 18.59l7.72-7.72 1.47 1.35L5.41 20z\"/>\n",
              "  </svg>\n",
              "      </button>\n",
              "      \n",
              "  <style>\n",
              "    .colab-df-container {\n",
              "      display:flex;\n",
              "      flex-wrap:wrap;\n",
              "      gap: 12px;\n",
              "    }\n",
              "\n",
              "    .colab-df-convert {\n",
              "      background-color: #E8F0FE;\n",
              "      border: none;\n",
              "      border-radius: 50%;\n",
              "      cursor: pointer;\n",
              "      display: none;\n",
              "      fill: #1967D2;\n",
              "      height: 32px;\n",
              "      padding: 0 0 0 0;\n",
              "      width: 32px;\n",
              "    }\n",
              "\n",
              "    .colab-df-convert:hover {\n",
              "      background-color: #E2EBFA;\n",
              "      box-shadow: 0px 1px 2px rgba(60, 64, 67, 0.3), 0px 1px 3px 1px rgba(60, 64, 67, 0.15);\n",
              "      fill: #174EA6;\n",
              "    }\n",
              "\n",
              "    [theme=dark] .colab-df-convert {\n",
              "      background-color: #3B4455;\n",
              "      fill: #D2E3FC;\n",
              "    }\n",
              "\n",
              "    [theme=dark] .colab-df-convert:hover {\n",
              "      background-color: #434B5C;\n",
              "      box-shadow: 0px 1px 3px 1px rgba(0, 0, 0, 0.15);\n",
              "      filter: drop-shadow(0px 1px 2px rgba(0, 0, 0, 0.3));\n",
              "      fill: #FFFFFF;\n",
              "    }\n",
              "  </style>\n",
              "\n",
              "      <script>\n",
              "        const buttonEl =\n",
              "          document.querySelector('#df-8ed92579-3ad1-43f7-8622-6737761c2a33 button.colab-df-convert');\n",
              "        buttonEl.style.display =\n",
              "          google.colab.kernel.accessAllowed ? 'block' : 'none';\n",
              "\n",
              "        async function convertToInteractive(key) {\n",
              "          const element = document.querySelector('#df-8ed92579-3ad1-43f7-8622-6737761c2a33');\n",
              "          const dataTable =\n",
              "            await google.colab.kernel.invokeFunction('convertToInteractive',\n",
              "                                                     [key], {});\n",
              "          if (!dataTable) return;\n",
              "\n",
              "          const docLinkHtml = 'Like what you see? Visit the ' +\n",
              "            '<a target=\"_blank\" href=https://colab.research.google.com/notebooks/data_table.ipynb>data table notebook</a>'\n",
              "            + ' to learn more about interactive tables.';\n",
              "          element.innerHTML = '';\n",
              "          dataTable['output_type'] = 'display_data';\n",
              "          await google.colab.output.renderOutput(dataTable, element);\n",
              "          const docLink = document.createElement('div');\n",
              "          docLink.innerHTML = docLinkHtml;\n",
              "          element.appendChild(docLink);\n",
              "        }\n",
              "      </script>\n",
              "    </div>\n",
              "  </div>\n",
              "  "
            ]
          },
          "metadata": {},
          "execution_count": 241
        }
      ]
    },
    {
      "cell_type": "code",
      "source": [
        "movies_filter = csv_data.groupby('movieId').size().reset_index(name='obs').sort_values(['obs'], ascending=False).iloc[0:200,:]"
      ],
      "metadata": {
        "id": "dWl00LO8mkkR"
      },
      "execution_count": null,
      "outputs": []
    },
    {
      "cell_type": "code",
      "source": [
        "merged = pd.merge(movies_filter, csv_data, on='movieId', how='inner')"
      ],
      "metadata": {
        "id": "A20GiAtjmsVs"
      },
      "execution_count": null,
      "outputs": []
    },
    {
      "cell_type": "code",
      "source": [
        "dataset = merged[['movieId','userId','rating']]"
      ],
      "metadata": {
        "id": "yjNZjk3qnq7u"
      },
      "execution_count": null,
      "outputs": []
    },
    {
      "cell_type": "code",
      "source": [
        "dataset.describe()"
      ],
      "metadata": {
        "colab": {
          "base_uri": "https://localhost:8080/",
          "height": 300
        },
        "id": "Nbp3vWy6n9DM",
        "outputId": "94b340c7-c7d2-48d9-dee1-770ec7205e7c"
      },
      "execution_count": null,
      "outputs": [
        {
          "output_type": "execute_result",
          "data": {
            "text/plain": [
              "            movieId        userId        rating\n",
              "count  25764.000000  25764.000000  25764.000000\n",
              "mean    4583.376882    310.687122      3.821243\n",
              "std    12550.893122    179.000534      0.962046\n",
              "min        1.000000      1.000000      0.500000\n",
              "25%      434.000000    160.000000      3.000000\n",
              "50%     1210.000000    308.000000      4.000000\n",
              "75%     2918.000000    464.000000      4.500000\n",
              "max    79132.000000    610.000000      5.000000"
            ],
            "text/html": [
              "\n",
              "  <div id=\"df-a16701e7-730f-4f19-8095-b41ed4b52207\">\n",
              "    <div class=\"colab-df-container\">\n",
              "      <div>\n",
              "<style scoped>\n",
              "    .dataframe tbody tr th:only-of-type {\n",
              "        vertical-align: middle;\n",
              "    }\n",
              "\n",
              "    .dataframe tbody tr th {\n",
              "        vertical-align: top;\n",
              "    }\n",
              "\n",
              "    .dataframe thead th {\n",
              "        text-align: right;\n",
              "    }\n",
              "</style>\n",
              "<table border=\"1\" class=\"dataframe\">\n",
              "  <thead>\n",
              "    <tr style=\"text-align: right;\">\n",
              "      <th></th>\n",
              "      <th>movieId</th>\n",
              "      <th>userId</th>\n",
              "      <th>rating</th>\n",
              "    </tr>\n",
              "  </thead>\n",
              "  <tbody>\n",
              "    <tr>\n",
              "      <th>count</th>\n",
              "      <td>25764.000000</td>\n",
              "      <td>25764.000000</td>\n",
              "      <td>25764.000000</td>\n",
              "    </tr>\n",
              "    <tr>\n",
              "      <th>mean</th>\n",
              "      <td>4583.376882</td>\n",
              "      <td>310.687122</td>\n",
              "      <td>3.821243</td>\n",
              "    </tr>\n",
              "    <tr>\n",
              "      <th>std</th>\n",
              "      <td>12550.893122</td>\n",
              "      <td>179.000534</td>\n",
              "      <td>0.962046</td>\n",
              "    </tr>\n",
              "    <tr>\n",
              "      <th>min</th>\n",
              "      <td>1.000000</td>\n",
              "      <td>1.000000</td>\n",
              "      <td>0.500000</td>\n",
              "    </tr>\n",
              "    <tr>\n",
              "      <th>25%</th>\n",
              "      <td>434.000000</td>\n",
              "      <td>160.000000</td>\n",
              "      <td>3.000000</td>\n",
              "    </tr>\n",
              "    <tr>\n",
              "      <th>50%</th>\n",
              "      <td>1210.000000</td>\n",
              "      <td>308.000000</td>\n",
              "      <td>4.000000</td>\n",
              "    </tr>\n",
              "    <tr>\n",
              "      <th>75%</th>\n",
              "      <td>2918.000000</td>\n",
              "      <td>464.000000</td>\n",
              "      <td>4.500000</td>\n",
              "    </tr>\n",
              "    <tr>\n",
              "      <th>max</th>\n",
              "      <td>79132.000000</td>\n",
              "      <td>610.000000</td>\n",
              "      <td>5.000000</td>\n",
              "    </tr>\n",
              "  </tbody>\n",
              "</table>\n",
              "</div>\n",
              "      <button class=\"colab-df-convert\" onclick=\"convertToInteractive('df-a16701e7-730f-4f19-8095-b41ed4b52207')\"\n",
              "              title=\"Convert this dataframe to an interactive table.\"\n",
              "              style=\"display:none;\">\n",
              "        \n",
              "  <svg xmlns=\"http://www.w3.org/2000/svg\" height=\"24px\"viewBox=\"0 0 24 24\"\n",
              "       width=\"24px\">\n",
              "    <path d=\"M0 0h24v24H0V0z\" fill=\"none\"/>\n",
              "    <path d=\"M18.56 5.44l.94 2.06.94-2.06 2.06-.94-2.06-.94-.94-2.06-.94 2.06-2.06.94zm-11 1L8.5 8.5l.94-2.06 2.06-.94-2.06-.94L8.5 2.5l-.94 2.06-2.06.94zm10 10l.94 2.06.94-2.06 2.06-.94-2.06-.94-.94-2.06-.94 2.06-2.06.94z\"/><path d=\"M17.41 7.96l-1.37-1.37c-.4-.4-.92-.59-1.43-.59-.52 0-1.04.2-1.43.59L10.3 9.45l-7.72 7.72c-.78.78-.78 2.05 0 2.83L4 21.41c.39.39.9.59 1.41.59.51 0 1.02-.2 1.41-.59l7.78-7.78 2.81-2.81c.8-.78.8-2.07 0-2.86zM5.41 20L4 18.59l7.72-7.72 1.47 1.35L5.41 20z\"/>\n",
              "  </svg>\n",
              "      </button>\n",
              "      \n",
              "  <style>\n",
              "    .colab-df-container {\n",
              "      display:flex;\n",
              "      flex-wrap:wrap;\n",
              "      gap: 12px;\n",
              "    }\n",
              "\n",
              "    .colab-df-convert {\n",
              "      background-color: #E8F0FE;\n",
              "      border: none;\n",
              "      border-radius: 50%;\n",
              "      cursor: pointer;\n",
              "      display: none;\n",
              "      fill: #1967D2;\n",
              "      height: 32px;\n",
              "      padding: 0 0 0 0;\n",
              "      width: 32px;\n",
              "    }\n",
              "\n",
              "    .colab-df-convert:hover {\n",
              "      background-color: #E2EBFA;\n",
              "      box-shadow: 0px 1px 2px rgba(60, 64, 67, 0.3), 0px 1px 3px 1px rgba(60, 64, 67, 0.15);\n",
              "      fill: #174EA6;\n",
              "    }\n",
              "\n",
              "    [theme=dark] .colab-df-convert {\n",
              "      background-color: #3B4455;\n",
              "      fill: #D2E3FC;\n",
              "    }\n",
              "\n",
              "    [theme=dark] .colab-df-convert:hover {\n",
              "      background-color: #434B5C;\n",
              "      box-shadow: 0px 1px 3px 1px rgba(0, 0, 0, 0.15);\n",
              "      filter: drop-shadow(0px 1px 2px rgba(0, 0, 0, 0.3));\n",
              "      fill: #FFFFFF;\n",
              "    }\n",
              "  </style>\n",
              "\n",
              "      <script>\n",
              "        const buttonEl =\n",
              "          document.querySelector('#df-a16701e7-730f-4f19-8095-b41ed4b52207 button.colab-df-convert');\n",
              "        buttonEl.style.display =\n",
              "          google.colab.kernel.accessAllowed ? 'block' : 'none';\n",
              "\n",
              "        async function convertToInteractive(key) {\n",
              "          const element = document.querySelector('#df-a16701e7-730f-4f19-8095-b41ed4b52207');\n",
              "          const dataTable =\n",
              "            await google.colab.kernel.invokeFunction('convertToInteractive',\n",
              "                                                     [key], {});\n",
              "          if (!dataTable) return;\n",
              "\n",
              "          const docLinkHtml = 'Like what you see? Visit the ' +\n",
              "            '<a target=\"_blank\" href=https://colab.research.google.com/notebooks/data_table.ipynb>data table notebook</a>'\n",
              "            + ' to learn more about interactive tables.';\n",
              "          element.innerHTML = '';\n",
              "          dataTable['output_type'] = 'display_data';\n",
              "          await google.colab.output.renderOutput(dataTable, element);\n",
              "          const docLink = document.createElement('div');\n",
              "          docLink.innerHTML = docLinkHtml;\n",
              "          element.appendChild(docLink);\n",
              "        }\n",
              "      </script>\n",
              "    </div>\n",
              "  </div>\n",
              "  "
            ]
          },
          "metadata": {},
          "execution_count": 245
        }
      ]
    },
    {
      "cell_type": "code",
      "source": [
        "dataset['rating'].unique()"
      ],
      "metadata": {
        "colab": {
          "base_uri": "https://localhost:8080/"
        },
        "id": "irHRYux_oJxK",
        "outputId": "393646be-9a66-41f5-d42e-5a6b499ff541"
      },
      "execution_count": null,
      "outputs": [
        {
          "output_type": "execute_result",
          "data": {
            "text/plain": [
              "array([4. , 5. , 3. , 3.5, 4.5, 2. , 1. , 0.5, 2.5, 1.5])"
            ]
          },
          "metadata": {},
          "execution_count": 246
        }
      ]
    },
    {
      "cell_type": "markdown",
      "source": [
        "###2- A partir del dataset del punto 1, construir una única red neuronal que utilice una capa de embeddings para el id de usuario, una capa de embeddings para el id de película y al menos dos capas lineales que sea capaz de predecir el puntaje que cada usuario colocó a cada pelicula.\n"
      ],
      "metadata": {
        "id": "vhgcGyopgW1f"
      }
    },
    {
      "cell_type": "markdown",
      "source": [
        "#### configuraciones iniciales"
      ],
      "metadata": {
        "id": "TNpkJeXzUD4h"
      }
    },
    {
      "cell_type": "code",
      "source": [
        "# importar librerias\n",
        "import torch\n",
        "from torch.utils.data import Dataset, DataLoader\n",
        "from sklearn import metrics\n",
        "# reproducibilidad\n",
        "torch.manual_seed(9731)\n"
      ],
      "metadata": {
        "colab": {
          "base_uri": "https://localhost:8080/"
        },
        "id": "RIpV_zhvZwyX",
        "outputId": "04b5a27e-205e-4474-ee2a-2f4a46476dad"
      },
      "execution_count": null,
      "outputs": [
        {
          "output_type": "execute_result",
          "data": {
            "text/plain": [
              "<torch._C.Generator at 0x7f0cc57c52b0>"
            ]
          },
          "metadata": {},
          "execution_count": 247
        }
      ]
    },
    {
      "cell_type": "markdown",
      "source": [
        "#### DataLoader"
      ],
      "metadata": {
        "id": "4ck_cmiLbWB4"
      }
    },
    {
      "cell_type": "code",
      "source": [
        "np.sort(dataset['movieId'].unique())"
      ],
      "metadata": {
        "colab": {
          "base_uri": "https://localhost:8080/"
        },
        "id": "feXuBpBFawfM",
        "outputId": "d74673c6-bfa4-48ba-ecfe-efe11d894c02"
      },
      "execution_count": null,
      "outputs": [
        {
          "output_type": "execute_result",
          "data": {
            "text/plain": [
              "array([    1,     2,     6,    10,    16,    19,    21,    32,    34,\n",
              "          39,    47,    50,    95,   104,   110,   111,   141,   150,\n",
              "         153,   161,   165,   185,   208,   223,   231,   253,   260,\n",
              "         288,   292,   293,   296,   316,   318,   329,   339,   344,\n",
              "         349,   356,   357,   364,   367,   377,   380,   410,   434,\n",
              "         454,   457,   480,   500,   527,   539,   541,   551,   586,\n",
              "         587,   588,   589,   590,   592,   593,   595,   597,   608,\n",
              "         648,   733,   736,   750,   778,   780,   788,   858,   904,\n",
              "         912,   919,   924,  1036,  1073,  1080,  1089,  1097,  1101,\n",
              "        1136,  1193,  1196,  1197,  1198,  1200,  1206,  1208,  1210,\n",
              "        1213,  1214,  1219,  1220,  1221,  1222,  1240,  1246,  1258,\n",
              "        1259,  1265,  1270,  1291,  1307,  1356,  1387,  1391,  1393,\n",
              "        1517,  1527,  1580,  1584,  1610,  1617,  1653,  1682,  1704,\n",
              "        1721,  1732,  1784,  1917,  1923,  1961,  1968,  2011,  2012,\n",
              "        2028,  2115,  2174,  2324,  2329,  2355,  2396,  2502,  2571,\n",
              "        2617,  2628,  2683,  2706,  2716,  2762,  2791,  2797,  2858,\n",
              "        2916,  2918,  2959,  2987,  2997,  3114,  3147,  3578,  3793,\n",
              "        3897,  3948,  3949,  3996,  4011,  4022,  4027,  4226,  4306,\n",
              "        4878,  4886,  4896,  4963,  4973,  4993,  4995,  5218,  5349,\n",
              "        5378,  5418,  5445,  5618,  5816,  5952,  5989,  6365,  6377,\n",
              "        6539,  6874,  7153,  7361,  7438,  8360,  8368,  8961, 32587,\n",
              "       33794, 44191, 48516, 48780, 58559, 59315, 60069, 68157, 68954,\n",
              "       72998, 79132])"
            ]
          },
          "metadata": {},
          "execution_count": 248
        }
      ]
    },
    {
      "cell_type": "code",
      "source": [
        "np.sort(dataset['userId'].unique())"
      ],
      "metadata": {
        "colab": {
          "base_uri": "https://localhost:8080/"
        },
        "id": "noczCxjFbe2n",
        "outputId": "0c8dfac9-8a9f-4539-c10d-c4580579885a"
      },
      "execution_count": null,
      "outputs": [
        {
          "output_type": "execute_result",
          "data": {
            "text/plain": [
              "array([  1,   2,   3,   4,   5,   6,   7,   8,   9,  10,  11,  12,  13,\n",
              "        14,  15,  16,  17,  18,  19,  20,  21,  22,  23,  24,  25,  26,\n",
              "        27,  28,  29,  30,  31,  32,  33,  34,  35,  36,  37,  38,  39,\n",
              "        40,  41,  42,  43,  44,  45,  46,  47,  48,  49,  50,  51,  52,\n",
              "        54,  55,  56,  57,  58,  59,  60,  61,  62,  63,  64,  65,  66,\n",
              "        67,  68,  69,  70,  71,  72,  73,  74,  75,  76,  77,  78,  79,\n",
              "        80,  81,  82,  83,  84,  85,  86,  87,  88,  89,  90,  91,  93,\n",
              "        94,  95,  96,  97,  98,  99, 100, 101, 102, 103, 104, 105, 106,\n",
              "       107, 108, 109, 110, 111, 112, 113, 114, 115, 116, 117, 118, 119,\n",
              "       120, 121, 122, 123, 124, 125, 126, 127, 128, 129, 130, 131, 132,\n",
              "       133, 134, 135, 136, 137, 138, 139, 140, 141, 142, 143, 144, 145,\n",
              "       146, 148, 149, 150, 151, 152, 153, 154, 155, 156, 157, 159, 160,\n",
              "       161, 162, 163, 164, 165, 166, 167, 168, 169, 170, 171, 172, 173,\n",
              "       174, 176, 177, 178, 179, 180, 181, 182, 183, 184, 185, 186, 187,\n",
              "       188, 189, 190, 191, 192, 193, 194, 195, 196, 197, 198, 199, 200,\n",
              "       201, 202, 203, 204, 205, 206, 207, 208, 209, 210, 211, 212, 213,\n",
              "       214, 215, 216, 217, 218, 219, 220, 221, 222, 223, 224, 225, 226,\n",
              "       227, 228, 229, 230, 231, 232, 233, 234, 235, 236, 237, 238, 239,\n",
              "       240, 241, 242, 243, 244, 245, 246, 247, 248, 249, 250, 251, 252,\n",
              "       253, 254, 255, 256, 257, 258, 259, 260, 261, 262, 263, 264, 265,\n",
              "       266, 267, 268, 269, 270, 271, 272, 273, 274, 275, 276, 277, 278,\n",
              "       279, 280, 281, 282, 283, 284, 285, 286, 287, 288, 289, 290, 291,\n",
              "       292, 293, 294, 295, 296, 297, 298, 299, 300, 301, 302, 303, 304,\n",
              "       305, 306, 307, 308, 309, 310, 311, 312, 313, 314, 315, 316, 317,\n",
              "       318, 319, 320, 321, 322, 323, 324, 325, 326, 327, 328, 329, 330,\n",
              "       331, 332, 333, 334, 335, 336, 337, 338, 339, 340, 341, 342, 343,\n",
              "       344, 345, 346, 347, 348, 349, 350, 351, 352, 353, 354, 355, 356,\n",
              "       357, 358, 359, 360, 361, 362, 363, 364, 365, 366, 367, 368, 369,\n",
              "       370, 371, 372, 373, 374, 375, 376, 377, 378, 379, 380, 381, 382,\n",
              "       383, 384, 385, 386, 387, 388, 389, 390, 391, 392, 393, 394, 395,\n",
              "       396, 397, 398, 399, 400, 401, 402, 403, 404, 405, 407, 408, 409,\n",
              "       410, 411, 412, 413, 414, 415, 416, 417, 418, 419, 420, 421, 422,\n",
              "       423, 424, 425, 426, 427, 428, 429, 430, 431, 432, 433, 434, 435,\n",
              "       436, 437, 438, 439, 440, 441, 443, 444, 445, 446, 447, 448, 449,\n",
              "       450, 451, 452, 453, 454, 455, 456, 457, 458, 459, 460, 461, 462,\n",
              "       463, 464, 465, 466, 467, 468, 469, 470, 471, 472, 473, 474, 475,\n",
              "       476, 477, 478, 479, 480, 481, 482, 483, 484, 485, 486, 487, 488,\n",
              "       489, 490, 491, 492, 493, 494, 495, 496, 497, 498, 499, 500, 501,\n",
              "       502, 503, 504, 505, 506, 507, 508, 509, 510, 511, 512, 513, 514,\n",
              "       515, 516, 517, 518, 519, 520, 521, 522, 523, 524, 525, 526, 527,\n",
              "       528, 529, 530, 531, 532, 533, 534, 535, 536, 537, 538, 539, 540,\n",
              "       541, 542, 543, 544, 545, 546, 547, 548, 549, 550, 551, 552, 553,\n",
              "       554, 555, 556, 557, 558, 559, 560, 561, 562, 563, 564, 565, 566,\n",
              "       567, 568, 569, 570, 571, 572, 573, 574, 575, 577, 579, 580, 581,\n",
              "       582, 583, 584, 585, 586, 587, 588, 589, 590, 591, 592, 593, 594,\n",
              "       595, 596, 597, 598, 599, 600, 601, 602, 603, 604, 605, 606, 607,\n",
              "       608, 609, 610])"
            ]
          },
          "metadata": {},
          "execution_count": 249
        }
      ]
    },
    {
      "cell_type": "markdown",
      "source": [
        "Los valores de userId y movieID no son consecutivos. Realizo la misma transformación vista en clase."
      ],
      "metadata": {
        "id": "jTh107I8cGJz"
      }
    },
    {
      "cell_type": "code",
      "source": [
        "number_movies = len(dataset['movieId'].unique())\n",
        "number_users = len(dataset['userId'].unique())"
      ],
      "metadata": {
        "id": "fqLh4jZvixKO"
      },
      "execution_count": null,
      "outputs": []
    },
    {
      "cell_type": "code",
      "source": [
        "# Transformo movieId a indices (idx) consecutivos para utilizar embeddings\n",
        "movie_id_to_idx = {value:i for i,value in enumerate(dataset['movieId'].unique())}"
      ],
      "metadata": {
        "id": "71sKSj_3cNtR"
      },
      "execution_count": null,
      "outputs": []
    },
    {
      "cell_type": "code",
      "source": [
        "# Vector de movie_idx en el dataset\n",
        "movie_idx = np.array([movie_id_to_idx[value] for value in dataset['movieId']])"
      ],
      "metadata": {
        "id": "ZcjP-sY_cduU"
      },
      "execution_count": null,
      "outputs": []
    },
    {
      "cell_type": "code",
      "source": [
        "user_id_to_idx = {value:i for i,value in enumerate(dataset['userId'].unique())}\n",
        "user_idx = np.array([user_id_to_idx[value] for value in dataset['userId']])"
      ],
      "metadata": {
        "id": "sZU9AuEnctdO"
      },
      "execution_count": null,
      "outputs": []
    },
    {
      "cell_type": "code",
      "source": [
        "y = dataset['rating'] # lo que quiero predecir, variable objetivo\n",
        "x = pd.concat([pd.DataFrame({\"userId\": user_idx}),pd.DataFrame({\"movieId\":movie_idx})],axis=1)\n",
        "#x"
      ],
      "metadata": {
        "id": "671_tgJfdYXT"
      },
      "execution_count": null,
      "outputs": []
    },
    {
      "cell_type": "code",
      "source": [
        "# Divido el dataset\n",
        "idx = np.random.permutation(dataset.shape[0])\n",
        "train_idx = idx[0:int(0.85*len(idx))]\n",
        "valid_idx = idx[int(0.85*len(idx)):]\n"
      ],
      "metadata": {
        "id": "4LD47cEIdnBd"
      },
      "execution_count": null,
      "outputs": []
    },
    {
      "cell_type": "code",
      "source": [
        "train_y = y[train_idx]\n",
        "valid_y = y[valid_idx]"
      ],
      "metadata": {
        "id": "--kEJt5ahbp8"
      },
      "execution_count": null,
      "outputs": []
    },
    {
      "cell_type": "code",
      "source": [
        "# Divido el vector *_idx en entrenamiento y validación\n",
        "user_idx_train = user_idx[train_idx]\n",
        "user_idx_valid = user_idx[valid_idx]\n",
        "\n",
        "movie_idx_train = movie_idx[train_idx]\n",
        "movie_idx_valid = movie_idx[valid_idx]"
      ],
      "metadata": {
        "id": "MXwZWGcifvqF"
      },
      "execution_count": null,
      "outputs": []
    },
    {
      "cell_type": "code",
      "source": [
        "n_train = movie_idx_train.shape[0]\n",
        "n_valid = movie_idx_valid.shape[0]"
      ],
      "metadata": {
        "id": "8zMQ1ZFVh5k2"
      },
      "execution_count": null,
      "outputs": []
    },
    {
      "cell_type": "code",
      "source": [
        "# Clase Dataset de Pytorch con embeddings\n",
        "class MyDatasetWithEmbddings(Dataset):\n",
        "\n",
        "  def __init__(self, user,item, y):\n",
        "    self.user = user\n",
        "    self.item = item\n",
        "    self.y = y\n",
        "    self.ids = range(0,len(user))\n",
        "\n",
        "  def __len__(self):\n",
        "    return len(self.ids)\n",
        "\n",
        "  def __getitem__(self, idx):\n",
        "    id = self.ids[idx]\n",
        "    #print(\"id :\"+str(id))\n",
        "    #print(\"user[id]: \"+str(self.user[id]))\n",
        "    #print(\"item[id]: \"+str(self.item[id]))\n",
        "    #print(\"y[id]: \"+str(self.y.iloc[id]))\n",
        "    return self.user[id], self.item[id], self.y.iloc[id] # sin iloc lanzaba KeyError"
      ],
      "metadata": {
        "id": "qX2aPO8jZmgl"
      },
      "execution_count": null,
      "outputs": []
    },
    {
      "cell_type": "code",
      "source": [
        "train_ds_embeddings = MyDatasetWithEmbddings(user_idx_train, movie_idx_train, train_y)\n",
        "valid_ds_embeddings = MyDatasetWithEmbddings(user_idx_valid, movie_idx_valid, valid_y)"
      ],
      "metadata": {
        "id": "Y_AYaJ9Wc1ds"
      },
      "execution_count": null,
      "outputs": []
    },
    {
      "cell_type": "code",
      "source": [
        "train_dataloader_emb = DataLoader(train_ds_embeddings, batch_size =64, shuffle= True)\n",
        "valid_dataloader_emb = DataLoader(valid_ds_embeddings, batch_size=64)"
      ],
      "metadata": {
        "id": "TGwvjH6jD_Xf"
      },
      "execution_count": null,
      "outputs": []
    },
    {
      "cell_type": "code",
      "source": [
        "#for batch_idx, samples in enumerate(train_dataloader_emb):\n",
        "#      print(batch_idx, samples)"
      ],
      "metadata": {
        "id": "DouzUYJZqq3p"
      },
      "execution_count": null,
      "outputs": []
    },
    {
      "cell_type": "markdown",
      "source": [
        "#### Red neuronal con embeddings"
      ],
      "metadata": {
        "id": "EwwCL-QKgivF"
      }
    },
    {
      "cell_type": "code",
      "source": [
        "# Arquitectura con embeddings\n",
        "class NNetWithEmbeddings(torch.nn.Module):\n",
        "\n",
        "  def __init__(self,num_users, num_items, emb_size=100):\n",
        "    super().__init__()\n",
        "\n",
        "    self.user_emb = torch.nn.Embedding(num_users, emb_size)\n",
        "    self.item_emb = torch.nn.Embedding(num_items, emb_size)\n",
        "    # initializing our matrices with a positive number generally will yield better results\n",
        "    self.user_emb.weight.data.uniform_(0, 0.5)\n",
        "    self.item_emb.weight.data.uniform_(0, 0.5)\n",
        "    self.linear_1 = torch.nn.Linear(in_features=2*emb_size, out_features=200, bias=True)\n",
        "    self.relu_1 = torch.nn.ReLU()\n",
        "    self.linear_2 = torch.nn.Linear(in_features = 200, out_features=100, bias=True)\n",
        "    self.relu_2 = torch.nn.ReLU()\n",
        "    self.output = torch.nn.Linear(in_features = 100, out_features= 1, bias=True)\n",
        "\n",
        "  def forward(self, u,v):\n",
        "    u = self.user_emb(torch.as_tensor(u,dtype=torch.long))\n",
        "    v = self.item_emb(torch.as_tensor(v,dtype=torch.long))\n",
        "    x = torch.cat([u, v], dim=1)\n",
        "    x = self.linear_1(x)\n",
        "    x = self.relu_1(x)\n",
        "    x = self.linear_2(x)\n",
        "    x = self.relu_2(x)\n",
        "    x = self.output(x)\n",
        "    return x\n",
        "\n",
        "  # https://betterprogramming.pub/building-a-recommendation-engine-with-pytorch-d64be4856fe7\n",
        "  # https://medium.com/swlh/recommendation-system-implementation-with-deep-learning-and-pytorch-a03ee84a96f4\n",
        "  # https://eugeneyan.com/writing/recommender-systems-baseline-pytorch/\n"
      ],
      "metadata": {
        "id": "5N7XBvJWgdxD"
      },
      "execution_count": null,
      "outputs": []
    },
    {
      "cell_type": "code",
      "source": [
        "nnetWithEmbeddings = NNetWithEmbeddings(num_users = number_users, num_items = number_movies)\n",
        "optimizer = torch.optim.Adam(nnetWithEmbeddings.parameters(), lr=0.001, weight_decay=0.01)"
      ],
      "metadata": {
        "id": "24VwQf1YaPcp"
      },
      "execution_count": null,
      "outputs": []
    },
    {
      "cell_type": "code",
      "source": [
        "device = \"cpu\"\n",
        "if torch.cuda.is_available():\n",
        "  device = \"cuda:0\"\n",
        "\n",
        "device"
      ],
      "metadata": {
        "colab": {
          "base_uri": "https://localhost:8080/",
          "height": 36
        },
        "id": "J0WGdlr8iRUE",
        "outputId": "9cc9b909-fe6e-4339-e046-c21d4629465f"
      },
      "execution_count": null,
      "outputs": [
        {
          "output_type": "execute_result",
          "data": {
            "text/plain": [
              "'cpu'"
            ],
            "application/vnd.google.colaboratory.intrinsic+json": {
              "type": "string"
            }
          },
          "metadata": {},
          "execution_count": 265
        }
      ]
    },
    {
      "cell_type": "code",
      "source": [
        "loss_function = torch.nn.MSELoss(reduction='sum')"
      ],
      "metadata": {
        "id": "XnBTXJTqjGxz"
      },
      "execution_count": null,
      "outputs": []
    },
    {
      "cell_type": "code",
      "source": [
        "# Mini-Batch\n",
        "\n",
        "# cantidad de epochs\n",
        "epochs = 50\n",
        "\n",
        "train_loss_by_epoch=[]\n",
        "valid_loss_by_epoch=[]\n",
        "\n",
        "# Doble loop algoritmo Mini-Batch\n",
        "for epoch in range(epochs):\n",
        "\n",
        "  ############################################\n",
        "  ## Entrenamiento\n",
        "  ############################################\n",
        "  nnetWithEmbeddings.train(True)\n",
        "\n",
        "  epoch_loss = 0\n",
        "  epoch_y_hat = []\n",
        "  epoch_y = []\n",
        "\n",
        "  for i,data in enumerate(train_dataloader_emb):\n",
        "    # Obtengo los datos del batch de entrenamiento\n",
        "    x_batch, embed_batch, y_batch = data\n",
        "    # Copio el batch al dispositivo donde entreno la red neuronal\n",
        "    x_batch = x_batch.to(device).float()\n",
        "    embed_batch = embed_batch.to(device).int()\n",
        "    y_batch = y_batch.to(device).float().reshape(-1, 1)\n",
        "\n",
        "    # Paso forward\n",
        "    # Limpio optimizer para empezar un nuevo cálculo de gradiente\n",
        "    optimizer.zero_grad()\n",
        "    nnet_output = nnetWithEmbeddings(x_batch, embed_batch)\n",
        "    y_batch_hat = torch.sigmoid(nnet_output)\n",
        "\n",
        "    # Calculo la función de pérdida, métrica\n",
        "    loss = loss_function(nnet_output, y_batch)\n",
        "\n",
        "    # Backpropagation\n",
        "    loss.backward()\n",
        "\n",
        "    # Actualizar los parámetros\n",
        "    optimizer.step()\n",
        "\n",
        "    # Almaceno los valores reales y mis predicciones para cálcular las métricas\n",
        "    epoch_y += list(y_batch.detach().cpu().numpy())\n",
        "    epoch_y_hat += list(y_batch_hat.detach().cpu().numpy())\n",
        "    # Acumulo la loss del batch\n",
        "    epoch_loss = epoch_loss + loss.item()\n",
        "\n",
        "  # Calculo la media de la loss\n",
        "  epoch_loss = epoch_loss / n_train\n",
        "  # Almaceno la loss de la epoch para graficar\n",
        "  train_loss_by_epoch.append(epoch_loss)\n",
        "  # Cálculo la métrica de la epoch\n",
        "  accuracy = metrics.mean_squared_error(epoch_y, epoch_y_hat)\n",
        "\n",
        "  ############################################\n",
        "  ## Validación\n",
        "  ############################################\n",
        "  # Desactivo el cálculo de gradiente para validación\n",
        "  nnetWithEmbeddings.train(False)\n",
        "\n",
        "  valid_epoch_loss = 0\n",
        "  valid_epoch_y_hat = []\n",
        "  valid_epoch_y = []\n",
        "\n",
        "  for i,data in enumerate(valid_dataloader_emb):\n",
        "    # Obtengo los datos del batch de validación\n",
        "    x_batch, embed_batch, y_batch = data\n",
        "    # Copio el batch al dispositivo donde entreno la red neuronal\n",
        "    x_batch = x_batch.to(device).float()\n",
        "    embed_batch = embed_batch.to(device).int()\n",
        "    y_batch = y_batch.to(device).float().reshape(-1, 1)\n",
        "\n",
        "    # Paso forward\n",
        "    nnet_output = nnetWithEmbeddings(x_batch, embed_batch)\n",
        "    y_batch_hat = torch.sigmoid(nnet_output)\n",
        "\n",
        "    # Calculo el loss\n",
        "    loss = loss_function(nnet_output, y_batch)\n",
        "\n",
        "    # En validación no hago backpropagation!!\n",
        "\n",
        "    # Almaceno los valores reales y mis predicciones para cálcular las métricas\n",
        "    valid_epoch_y += list(y_batch.detach().cpu().numpy())\n",
        "    valid_epoch_y_hat += list(y_batch_hat.detach().cpu().numpy())\n",
        "    # Acumulo la loss del batch\n",
        "    valid_epoch_loss = valid_epoch_loss + loss.item()\n",
        "\n",
        "  # Calculo la media de la loss\n",
        "  valid_epoch_loss = valid_epoch_loss / n_valid\n",
        "  # Almaceno la loss de la epoch para graficar\n",
        "  valid_loss_by_epoch.append(valid_epoch_loss)\n",
        "  # Cálculo la métrica de la epoch metrics.mean_squared_error(epoch_y, epoch_y_hat)\n",
        "  valid_accuracy = metrics.mean_squared_error(valid_epoch_y,  valid_epoch_y_hat)\n",
        "\n",
        "  ############################################\n",
        "  ## Impresión de resultados por epoch\n",
        "  ############################################\n",
        "  print(f\" Epoch {epoch} | \" \\\n",
        "        f\"Train/Valid loss: {epoch_loss:.3f} / {valid_epoch_loss:.3f} | \" \\\n",
        "        f\"Train/Valid accuracy: {accuracy:.3f} / {valid_accuracy:.3f}\")"
      ],
      "metadata": {
        "colab": {
          "base_uri": "https://localhost:8080/"
        },
        "id": "4uagKRHPjy8O",
        "outputId": "90dff9bf-7b06-46a3-837a-a947ac7ad1bd"
      },
      "execution_count": null,
      "outputs": [
        {
          "output_type": "stream",
          "name": "stdout",
          "text": [
            " Epoch 0 | Train/Valid loss: 0.127 / 0.992 | Train/Valid accuracy: 9.027 / 8.912\n",
            " Epoch 1 | Train/Valid loss: 0.125 / 0.991 | Train/Valid accuracy: 9.027 / 8.922\n",
            " Epoch 2 | Train/Valid loss: 0.124 / 1.017 | Train/Valid accuracy: 9.027 / 8.913\n",
            " Epoch 3 | Train/Valid loss: 0.122 / 1.009 | Train/Valid accuracy: 9.027 / 8.928\n",
            " Epoch 4 | Train/Valid loss: 0.120 / 1.001 | Train/Valid accuracy: 9.027 / 8.920\n",
            " Epoch 5 | Train/Valid loss: 0.118 / 0.991 | Train/Valid accuracy: 9.027 / 8.917\n",
            " Epoch 6 | Train/Valid loss: 0.118 / 0.995 | Train/Valid accuracy: 9.027 / 8.922\n",
            " Epoch 7 | Train/Valid loss: 0.116 / 1.019 | Train/Valid accuracy: 9.027 / 8.919\n",
            " Epoch 8 | Train/Valid loss: 0.116 / 1.019 | Train/Valid accuracy: 9.027 / 8.925\n",
            " Epoch 9 | Train/Valid loss: 0.111 / 1.012 | Train/Valid accuracy: 9.027 / 8.916\n",
            " Epoch 10 | Train/Valid loss: 0.113 / 1.014 | Train/Valid accuracy: 9.027 / 8.913\n",
            " Epoch 11 | Train/Valid loss: 0.107 / 1.011 | Train/Valid accuracy: 9.027 / 8.914\n",
            " Epoch 12 | Train/Valid loss: 0.107 / 0.995 | Train/Valid accuracy: 9.027 / 8.929\n",
            " Epoch 13 | Train/Valid loss: 0.109 / 0.999 | Train/Valid accuracy: 9.027 / 8.916\n",
            " Epoch 14 | Train/Valid loss: 0.109 / 1.011 | Train/Valid accuracy: 9.027 / 8.921\n",
            " Epoch 15 | Train/Valid loss: 0.104 / 1.003 | Train/Valid accuracy: 9.027 / 8.918\n",
            " Epoch 16 | Train/Valid loss: 0.101 / 1.013 | Train/Valid accuracy: 9.027 / 8.913\n",
            " Epoch 17 | Train/Valid loss: 0.105 / 1.009 | Train/Valid accuracy: 9.027 / 8.920\n",
            " Epoch 18 | Train/Valid loss: 0.101 / 1.011 | Train/Valid accuracy: 9.027 / 8.915\n",
            " Epoch 19 | Train/Valid loss: 0.102 / 1.005 | Train/Valid accuracy: 9.027 / 8.913\n",
            " Epoch 20 | Train/Valid loss: 0.099 / 1.006 | Train/Valid accuracy: 9.027 / 8.926\n",
            " Epoch 21 | Train/Valid loss: 0.097 / 1.024 | Train/Valid accuracy: 9.027 / 8.910\n",
            " Epoch 22 | Train/Valid loss: 0.097 / 1.007 | Train/Valid accuracy: 9.027 / 8.919\n",
            " Epoch 23 | Train/Valid loss: 0.099 / 1.029 | Train/Valid accuracy: 9.027 / 8.919\n",
            " Epoch 24 | Train/Valid loss: 0.097 / 1.021 | Train/Valid accuracy: 9.027 / 8.924\n",
            " Epoch 25 | Train/Valid loss: 0.097 / 1.029 | Train/Valid accuracy: 9.027 / 8.912\n",
            " Epoch 26 | Train/Valid loss: 0.094 / 1.018 | Train/Valid accuracy: 9.027 / 8.926\n",
            " Epoch 27 | Train/Valid loss: 0.094 / 1.018 | Train/Valid accuracy: 9.027 / 8.930\n",
            " Epoch 28 | Train/Valid loss: 0.093 / 1.007 | Train/Valid accuracy: 9.027 / 8.916\n",
            " Epoch 29 | Train/Valid loss: 0.092 / 1.000 | Train/Valid accuracy: 9.027 / 8.925\n",
            " Epoch 30 | Train/Valid loss: 0.091 / 1.029 | Train/Valid accuracy: 9.027 / 8.927\n",
            " Epoch 31 | Train/Valid loss: 0.091 / 1.024 | Train/Valid accuracy: 9.027 / 8.915\n",
            " Epoch 32 | Train/Valid loss: 0.091 / 1.001 | Train/Valid accuracy: 9.027 / 8.908\n",
            " Epoch 33 | Train/Valid loss: 0.090 / 1.006 | Train/Valid accuracy: 9.027 / 8.914\n",
            " Epoch 34 | Train/Valid loss: 0.088 / 0.995 | Train/Valid accuracy: 9.027 / 8.915\n",
            " Epoch 35 | Train/Valid loss: 0.086 / 1.016 | Train/Valid accuracy: 9.027 / 8.919\n",
            " Epoch 36 | Train/Valid loss: 0.089 / 1.031 | Train/Valid accuracy: 9.027 / 8.919\n",
            " Epoch 37 | Train/Valid loss: 0.087 / 1.000 | Train/Valid accuracy: 9.027 / 8.915\n",
            " Epoch 38 | Train/Valid loss: 0.086 / 1.007 | Train/Valid accuracy: 9.027 / 8.921\n",
            " Epoch 39 | Train/Valid loss: 0.086 / 0.991 | Train/Valid accuracy: 9.027 / 8.915\n",
            " Epoch 40 | Train/Valid loss: 0.085 / 1.005 | Train/Valid accuracy: 9.027 / 8.917\n",
            " Epoch 41 | Train/Valid loss: 0.086 / 1.010 | Train/Valid accuracy: 9.027 / 8.913\n",
            " Epoch 42 | Train/Valid loss: 0.082 / 1.021 | Train/Valid accuracy: 9.027 / 8.933\n",
            " Epoch 43 | Train/Valid loss: 0.083 / 1.025 | Train/Valid accuracy: 9.027 / 8.933\n",
            " Epoch 44 | Train/Valid loss: 0.082 / 1.014 | Train/Valid accuracy: 9.027 / 8.918\n",
            " Epoch 45 | Train/Valid loss: 0.081 / 1.028 | Train/Valid accuracy: 9.027 / 8.932\n",
            " Epoch 46 | Train/Valid loss: 0.085 / 1.007 | Train/Valid accuracy: 9.027 / 8.925\n",
            " Epoch 47 | Train/Valid loss: 0.082 / 0.997 | Train/Valid accuracy: 9.027 / 8.913\n",
            " Epoch 48 | Train/Valid loss: 0.079 / 1.013 | Train/Valid accuracy: 9.027 / 8.909\n",
            " Epoch 49 | Train/Valid loss: 0.079 / 1.006 | Train/Valid accuracy: 9.027 / 8.911\n"
          ]
        }
      ]
    },
    {
      "cell_type": "code",
      "source": [
        "# Grafica loss por epoch\n",
        "import matplotlib.pyplot as plt\n",
        "\n",
        "fig, ax1= plt.subplots(1,1)\n",
        "ax1.plot(train_loss_by_epoch, label=\"Train loss\")\n",
        "ax1.plot(valid_loss_by_epoch, label=\"Validation loss\")\n",
        "ax1.legend()\n",
        "ax1.set_title(\"Loss by epoch\")\n",
        "ax1.set_xlabel(\"epoch\")\n",
        "ax1.set_ylabel(\"MSE\")"
      ],
      "metadata": {
        "colab": {
          "base_uri": "https://localhost:8080/",
          "height": 489
        },
        "id": "alWMCThb3kB8",
        "outputId": "f1a38778-0ef7-40db-8965-a6f60dbdb67d"
      },
      "execution_count": null,
      "outputs": [
        {
          "output_type": "execute_result",
          "data": {
            "text/plain": [
              "Text(0, 0.5, 'MSE')"
            ]
          },
          "metadata": {},
          "execution_count": 270
        },
        {
          "output_type": "display_data",
          "data": {
            "text/plain": [
              "<Figure size 640x480 with 1 Axes>"
            ],
            "image/png": "[encoded data removed]"
          },
          "metadata": {}
        }
      ]
    },
    {
      "cell_type": "markdown",
      "source": [
        "Por la gráfica observo overfeating"
      ],
      "metadata": {
        "id": "tcW6WWtN3wng"
      }
    },
    {
      "cell_type": "markdown",
      "source": [
        "\n",
        "3- Elegir un usuario al azar, una película que dicho usuario haya puntuado y verificar la predicción del modelo. Comparar con el puntaje real que el usuario asignó a dicha película.\n"
      ],
      "metadata": {
        "id": "z0xc0j0dgd_q"
      }
    },
    {
      "cell_type": "code",
      "source": [
        "user_idx_train[0]"
      ],
      "metadata": {
        "id": "Hl0MlYjQgk85",
        "colab": {
          "base_uri": "https://localhost:8080/"
        },
        "outputId": "3df31b7b-a709-4a5c-d40a-4497fa0feee5"
      },
      "execution_count": null,
      "outputs": [
        {
          "output_type": "execute_result",
          "data": {
            "text/plain": [
              "206"
            ]
          },
          "metadata": {},
          "execution_count": 272
        }
      ]
    },
    {
      "cell_type": "code",
      "source": [
        "user_idx[0]"
      ],
      "metadata": {
        "colab": {
          "base_uri": "https://localhost:8080/"
        },
        "id": "vIEbIUmY9x2V",
        "outputId": "af10a215-fa46-408d-aca4-5f71b4be7722"
      },
      "execution_count": null,
      "outputs": [
        {
          "output_type": "execute_result",
          "data": {
            "text/plain": [
              "0"
            ]
          },
          "metadata": {},
          "execution_count": 278
        }
      ]
    },
    {
      "cell_type": "code",
      "source": [
        "movie_idx_train[0]"
      ],
      "metadata": {
        "colab": {
          "base_uri": "https://localhost:8080/"
        },
        "id": "L5_tr3rS8Zen",
        "outputId": "1761331d-70d3-432a-b2e5-a0c81666063c"
      },
      "execution_count": null,
      "outputs": [
        {
          "output_type": "execute_result",
          "data": {
            "text/plain": [
              "63"
            ]
          },
          "metadata": {},
          "execution_count": 273
        }
      ]
    },
    {
      "cell_type": "code",
      "source": [
        "movie_idx[0]"
      ],
      "metadata": {
        "colab": {
          "base_uri": "https://localhost:8080/"
        },
        "id": "8559nAzr95Hg",
        "outputId": "47111a89-2342-467b-df70-e69f056b92d7"
      },
      "execution_count": null,
      "outputs": [
        {
          "output_type": "execute_result",
          "data": {
            "text/plain": [
              "0"
            ]
          },
          "metadata": {},
          "execution_count": 279
        }
      ]
    },
    {
      "cell_type": "code",
      "source": [
        "train_y[0]"
      ],
      "metadata": {
        "colab": {
          "base_uri": "https://localhost:8080/"
        },
        "id": "zVuVRBbb-LO9",
        "outputId": "963467b1-c330-4c8b-8dea-dfac03280d15"
      },
      "execution_count": null,
      "outputs": [
        {
          "output_type": "execute_result",
          "data": {
            "text/plain": [
              "4.0"
            ]
          },
          "metadata": {},
          "execution_count": 280
        }
      ]
    },
    {
      "cell_type": "code",
      "source": [
        "model = nnetWithEmbeddings(torch.tensor([user_idx_train[0]]), torch.tensor([movie_idx_train[0]]))\n",
        "pred = torch.sigmoid(model)\n"
      ],
      "metadata": {
        "id": "zm4j_-m58djz"
      },
      "execution_count": null,
      "outputs": []
    },
    {
      "cell_type": "code",
      "source": [
        "print(pred)"
      ],
      "metadata": {
        "colab": {
          "base_uri": "https://localhost:8080/"
        },
        "id": "YqWy7ATt9UPF",
        "outputId": "aaf0122b-068a-4b1e-8092-54e138effe52"
      },
      "execution_count": null,
      "outputs": [
        {
          "output_type": "execute_result",
          "data": {
            "text/plain": [
              "tensor([[0.9845]], grad_fn=<SigmoidBackward0>)"
            ]
          },
          "metadata": {},
          "execution_count": 276
        }
      ]
    },
    {
      "cell_type": "code",
      "source": [
        "dataset.iloc[0,:]"
      ],
      "metadata": {
        "colab": {
          "base_uri": "https://localhost:8080/"
        },
        "id": "SqZKND_k9dB-",
        "outputId": "8bba84f3-dacb-4e39-da5c-fa0101c0993f"
      },
      "execution_count": null,
      "outputs": [
        {
          "output_type": "execute_result",
          "data": {
            "text/plain": [
              "movieId    356.0\n",
              "userId       1.0\n",
              "rating       4.0\n",
              "Name: 0, dtype: float64"
            ]
          },
          "metadata": {},
          "execution_count": 277
        }
      ]
    },
    {
      "cell_type": "markdown",
      "source": [
        "En el dataset el usuario 1 puntua la pelicula 356 con 4 pero el modelo regresa casi 1 de valor."
      ],
      "metadata": {
        "id": "cfs4JV7v-VV5"
      }
    },
    {
      "cell_type": "markdown",
      "source": [
        "\n",
        "4- Realizar una recomendación de película para el usuario del punto 3 utilizando los embeddings de usuario o los embeddings de películas. Comprobar si la recomendación es correcta haciendo una predicción del puntuaje con la red neuronal."
      ],
      "metadata": {
        "id": "iSVk91Lzgncd"
      }
    },
    {
      "cell_type": "code",
      "source": [],
      "metadata": {
        "id": "KUgHB1x-gohK"
      },
      "execution_count": null,
      "outputs": []
    }
  ]
}